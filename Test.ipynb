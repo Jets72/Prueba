{
 "cells": [
  {
   "cell_type": "markdown",
   "id": "19c5f49f-3929-48d4-9dfb-e8462e6c4138",
   "metadata": {},
   "source": [
    "# Primer código"
   ]
  },
  {
   "cell_type": "code",
   "execution_count": 1,
   "id": "7250448f-12b3-479b-a5af-dc080b49f576",
   "metadata": {},
   "outputs": [],
   "source": [
    "x=10\n",
    "y=20\n",
    "z= x+y"
   ]
  },
  {
   "cell_type": "code",
   "execution_count": 2,
   "id": "00446c66-d82f-4256-957c-13ecc1eb302f",
   "metadata": {},
   "outputs": [
    {
     "data": {
      "text/plain": [
       "30"
      ]
     },
     "execution_count": 2,
     "metadata": {},
     "output_type": "execute_result"
    }
   ],
   "source": [
    "z"
   ]
  },
  {
   "cell_type": "code",
   "execution_count": null,
   "id": "cfc10784-5534-4423-af16-a2d994ba85cc",
   "metadata": {},
   "outputs": [],
   "source": []
  }
 ],
 "metadata": {
  "kernelspec": {
   "display_name": "Python 3 (ipykernel)",
   "language": "python",
   "name": "python3"
  },
  "language_info": {
   "codemirror_mode": {
    "name": "ipython",
    "version": 3
   },
   "file_extension": ".py",
   "mimetype": "text/x-python",
   "name": "python",
   "nbconvert_exporter": "python",
   "pygments_lexer": "ipython3",
   "version": "3.11.7"
  }
 },
 "nbformat": 4,
 "nbformat_minor": 5
}
